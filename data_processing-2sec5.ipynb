{
 "cells": [
  {
   "cell_type": "code",
   "execution_count": 2,
   "metadata": {
    "collapsed": true
   },
   "outputs": [],
   "source": [
    "import scipy.io\n",
    "import numpy as np\n",
    "from scipy.signal import find_peaks_cwt\n",
    "import matplotlib.pyplot as plt\n",
    "%matplotlib inline  "
   ]
  },
  {
   "cell_type": "code",
   "execution_count": 3,
   "metadata": {
    "collapsed": false
   },
   "outputs": [],
   "source": [
    "mat = scipy.io.loadmat('EyeBlinks/2Blink5Sec.mat')['Baseline_Segment_04']"
   ]
  },
  {
   "cell_type": "code",
   "execution_count": 4,
   "metadata": {
    "collapsed": false
   },
   "outputs": [],
   "source": [
    "eyeblink_channel_1 = mat[1,:]\n",
    "eyeblink_channel_2 = mat[2,:]"
   ]
  },
  {
   "cell_type": "code",
   "execution_count": 7,
   "metadata": {
    "collapsed": false
   },
   "outputs": [
    {
     "name": "stdout",
     "output_type": "stream",
     "text": [
      "[  5.15444088   7.17316294   9.45338535 ...,  11.15125084   9.68928623\n",
      "   7.9854579 ]\n",
      "[ 99.95415497  91.72970581]\n",
      "806\n",
      "756\n"
     ]
    }
   ],
   "source": [
    "print(eyeblink_channel_1)\n",
    "indexes = find_peaks_cwt(eyeblink_channel_1, np.arange(1,40),min_length=5)\n",
    "peaks = eyeblink_channel_1[indexes]\n",
    "max_peak = peaks.max()\n",
    "# print peaks\n",
    "two_peaks = np.sort(peaks)[::-1][:2]\n",
    "print(two_peaks)\n",
    "print(np.where(eyeblink_channel_1 == two_peaks[0])[0][0])\n",
    "print(np.where(eyeblink_channel_1 == two_peaks[1])[0][0])"
   ]
  },
  {
   "cell_type": "code",
   "execution_count": 8,
   "metadata": {
    "collapsed": false
   },
   "outputs": [
    {
     "data": {
      "image/png": "[encoded data removed]",
      "text/plain": [
       "<matplotlib.figure.Figure at 0x110a32f90>"
      ]
     },
     "metadata": {},
     "output_type": "display_data"
    }
   ],
   "source": [
    "# input = np.array([ 1. ,  1. ,  1. ,  1. ,  1. ,  1. ,  1. ,  1.1,  1. ,  0.8,  0.9,\n",
    "#     1. ,  1.2,  0.9,  1. ,  1. ,  1.1,  1.2,  1. ,  1.5,  1. ,  3. ,\n",
    "#     2. ,  5. ,  3. ,  2. ,  1. ,  1. ,  1. ,  0.9,  1. ,  1. ,  3. ,\n",
    "#     2.6,  4. ,  3. ,  3.2,  2. ,  1. ,  1. ,  1. ,  1. ,  1. ])\n",
    "input = eyeblink_channel_1\n",
    "signal = (input > np.roll(input,1)) & (input > np.roll(input,-1))\n",
    "plt.plot(input)\n",
    "plt.plot(signal.nonzero()[0], input[signal], 'ro')\n",
    "plt.show()\n"
   ]
  },
  {
   "cell_type": "code",
   "execution_count": 10,
   "metadata": {
    "collapsed": false
   },
   "outputs": [
    {
     "name": "stdout",
     "output_type": "stream",
     "text": [
      "22.6153\n",
      "-7.67182\n",
      "511.451\n",
      "(array([805]),)\n",
      "[98.800682, 100.16802, 100.58112, 99.954155, 98.334801]\n",
      "[95.558289, 96.317108, 96.700058, 96.710129, 96.404922, 95.887253, 95.28566, 96.687233, 98.800682, 100.16802, 100.58112, 99.954155, 98.334801, 95.894539]\n"
     ]
    }
   ],
   "source": [
    "print (eyeblink_channel_1.std())\n",
    "print (eyeblink_channel_1.mean())\n",
    "print (eyeblink_channel_1.var())\n",
    "max_value = eyeblink_channel_1.max()\n",
    "maxTermIndex = np.where(eyeblink_channel_1 == eyeblink_channel_1.max())\n",
    "print (maxTermIndex)\n",
    "peak = []\n",
    "for i in range(-2,3,1):\n",
    "    peak.append(eyeblink_channel_1[maxTermIndex[0][0]+i])\n",
    "print (peak)\n",
    "print ([i for i in eyeblink_channel_1 if i>(95.00)])"
   ]
  },
  {
   "cell_type": "code",
   "execution_count": null,
   "metadata": {
    "collapsed": false
   },
   "outputs": [],
   "source": [
    "possiblePeaks = []\n",
    "peak_temp = []\n",
    "list_of_index_to_be_deleted = []\n",
    "eyeblink_channel_1 = list(eyeblink_channel_1)\n",
    "for i in eyeblink_channel_1:\n",
    "    if eyeblink_channel_1.index(i) <= (len(eyeblink_channel_1)-3):\n",
    "        if i > eyeblink_channel_1[eyeblink_channel_1.index(i)+1]:\n",
    "            for j in range(-2,3,1):\n",
    "                peak_temp.append(eyeblink_channel_1[eyeblink_channel_1.index(i)+j])\n",
    "                list_of_index_to_be_deleted.append(eyeblink_channel_1.index(i)+j)\n",
    "            eyeblink_channel_1 = eyeblink_channel_1[:eyeblink_channel_1 .index(i)-2] + eyeblink_channel_1[eyeblink_channel_1.index(i)+2:] \n",
    "            print (\"pt: \")\n",
    "            print (peak_temp)\n",
    "            possiblePeaks.append(peak_temp)\n",
    "            peak_temp = []\n",
    "            print (\"PP:\")\n",
    "            print (possiblePeaks)\n",
    "    print(len(eyeblink_channel_1))\n",
    "print (possiblePeaks)\n",
    "        "
   ]
  },
  {
   "cell_type": "code",
   "execution_count": null,
   "metadata": {
    "collapsed": false
   },
   "outputs": [],
   "source": [
    "eyeblink_channel_1 = list(eyeblink_channel_1)\n",
    "for i in eyeblink_channel_1:\n",
    "    eyeblink_channel_1 = eyeblink_channel_1[:eyeblink_channel_1.index(i)-2] + eyeblink_channel_1[eyeblink_channel_1.index(i)+2:] \n",
    "    print(len(eyeblink_channel_1))"
   ]
  },
  {
   "cell_type": "code",
   "execution_count": null,
   "metadata": {
    "collapsed": false
   },
   "outputs": [],
   "source": [
    "input = eyeblink_channel_2\n",
    "signal = (input > np.roll(input,1)) & (input > np.roll(input,-1))\n",
    "# print input[signal]\n",
    "plt.plot(input)\n",
    "plt.plot(signal.nonzero()[0], input[signal], 'ro')\n",
    "plt.show()"
   ]
  },
  {
   "cell_type": "code",
   "execution_count": null,
   "metadata": {
    "collapsed": false
   },
   "outputs": [],
   "source": [
    "print (eyeblink_channel_2.std())\n",
    "print (eyeblink_channel_2.mean())\n",
    "print (eyeblink_channel_2.var())\n",
    "max_value = eyeblink_channel_2.max()\n",
    "maxTermIndex = np.where(eyeblink_channel_2 == eyeblink_channel_2.max())\n",
    "peak_2 = []\n",
    "for i in range(-2,3,1):\n",
    "    peak_2.append(eyeblink_channel_2[maxTermIndex[0][0]+i])\n",
    "print (peak_2)\n",
    "print ([i for i in eyeblink_channel_2 if i>(30.00)])"
   ]
  },
  {
   "cell_type": "code",
   "execution_count": null,
   "metadata": {
    "collapsed": true
   },
   "outputs": [],
   "source": []
  }
 ],
 "metadata": {
  "anaconda-cloud": {},
  "kernelspec": {
   "display_name": "VPython",
   "language": "python",
   "name": "vpython"
  },
  "language_info": {
   "codemirror_mode": {
    "name": "ipython",
    "version": 2
   },
   "file_extension": ".py",
   "mimetype": "text/x-python",
   "name": "python",
   "nbconvert_exporter": "python",
   "pygments_lexer": "ipython2",
   "version": "2.7.12"
  }
 },
 "nbformat": 4,
 "nbformat_minor": 0
}
